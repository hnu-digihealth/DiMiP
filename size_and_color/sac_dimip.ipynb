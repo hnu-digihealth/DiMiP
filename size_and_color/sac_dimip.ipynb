{
 "cells": [
  {
   "cell_type": "code",
   "execution_count": 1,
   "metadata": {},
   "outputs": [],
   "source": [
    "from pathlib import Path\n",
    "from src.ml_utils.machine_learning import train_and_validate_model"
   ]
  },
  {
   "cell_type": "code",
   "execution_count": null,
   "metadata": {},
   "outputs": [],
   "source": [
    "train_and_validate_model(\n",
    "    train_image_path= Path('/Volumes/teddoww/dimip_data/processed/cocahis/train'),\n",
    "    val_image_path= Path('/Volumes/teddoww/dimip_data/processed/cocahis/validate'),\n",
    "    batch_size = 1,\n",
    "    mode= 'gpu',\n",
    "    model_path= Path('./cocahis_color'),\n",
    "    num_workers= 1,\n",
    "    normalizer_image_path= Path('/Volumes/teddoww/dimip_data/processed/cocahis/test/img/patient-6_image-4.png'),\n",
    "    color_mode = 'color',\n",
    ")"
   ]
  },
  {
   "cell_type": "code",
   "execution_count": 3,
   "metadata": {},
   "outputs": [],
   "source": [
    "# grayscale\n",
    "# Epoch 20: 100%|██████████| 62/62 [00:14<00:00,  4.36it/s, v_num=3, val_loss=0.333, val_dice=0.674, val_iou=0.525, train_loss=0.332]\n",
    "# Metric val_loss improved by 0.000 >= min_delta = 0.0. New best score: 0.333\n",
    "\n",
    "# color\n",
    "# Epoch 27: 100%|██████████| 62/62 [00:23<00:00,  2.62it/s, v_num=5, val_loss=0.217, val_dice=0.798, val_iou=0.676, train_loss=0.267]\n",
    "# Metric val_loss improved by 0.005 >= min_delta = 0.0. New best score: 0.217"
   ]
  }
 ],
 "metadata": {
  "kernelspec": {
   "display_name": "dimip",
   "language": "python",
   "name": "python3"
  },
  "language_info": {
   "codemirror_mode": {
    "name": "ipython",
    "version": 3
   },
   "file_extension": ".py",
   "mimetype": "text/x-python",
   "name": "python",
   "nbconvert_exporter": "python",
   "pygments_lexer": "ipython3",
   "version": "3.12.2"
  }
 },
 "nbformat": 4,
 "nbformat_minor": 2
}
